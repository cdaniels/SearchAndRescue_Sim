{
 "cells": [
  {
   "cell_type": "code",
   "execution_count": 1,
   "metadata": {},
   "outputs": [
    {
     "name": "stdout",
     "output_type": "stream",
     "text": [
      "pygame 2.1.2 (SDL 2.0.16, Python 3.10.7)\n",
      "Hello from the pygame community. https://www.pygame.org/contribute.html\n"
     ]
    }
   ],
   "source": [
    "import sys\n",
    "\n",
    "import sys  \n",
    "sys.path.insert(0, './src')\n",
    "\n",
    "import src.simulation\n",
    "from src import simulation \n",
    "\n",
    "from src.simulation import Simulation\n",
    "from src.environments import SARGridWorld\n"
   ]
  },
  {
   "cell_type": "code",
   "execution_count": 2,
   "metadata": {},
   "outputs": [
    {
     "ename": "IndexError",
     "evalue": "index 400 is out of bounds for axis 0 with size 400",
     "output_type": "error",
     "traceback": [
      "\u001b[0;31m---------------------------------------------------------------------------\u001b[0m",
      "\u001b[0;31mIndexError\u001b[0m                                Traceback (most recent call last)",
      "Cell \u001b[0;32mIn [2], line 16\u001b[0m\n\u001b[1;32m     13\u001b[0m env \u001b[39m=\u001b[39m SARGridWorld(custom_options)\n\u001b[1;32m     14\u001b[0m sar_sim \u001b[39m=\u001b[39m Simulation(env)\n\u001b[0;32m---> 16\u001b[0m sar_sim\u001b[39m.\u001b[39;49mrun_simulation()\n",
      "File \u001b[0;32m/media/alden/WD_BLACK/Portfolio/Code_Samples/SearchAndRescue_Sim/src/simulation.py:35\u001b[0m, in \u001b[0;36mSimulation.run_simulation\u001b[0;34m(self)\u001b[0m\n\u001b[1;32m     33\u001b[0m \u001b[39mfor\u001b[39;00m i \u001b[39min\u001b[39;00m \u001b[39mself\u001b[39m\u001b[39m.\u001b[39magent_dict:\n\u001b[1;32m     34\u001b[0m     obs \u001b[39m=\u001b[39m \u001b[39mself\u001b[39m\u001b[39m.\u001b[39mgrid_world\u001b[39m.\u001b[39mreset_agent(i)\n\u001b[0;32m---> 35\u001b[0m     act \u001b[39m=\u001b[39m \u001b[39mself\u001b[39;49m\u001b[39m.\u001b[39;49magent_dict[i]\u001b[39m.\u001b[39;49mpolicy(obs)\n\u001b[1;32m     36\u001b[0m     agent_actions\u001b[39m.\u001b[39mappend(act)\n\u001b[1;32m     38\u001b[0m \u001b[39mwhile\u001b[39;00m \u001b[39mnot\u001b[39;00m terminated:\n",
      "File \u001b[0;32m/media/alden/WD_BLACK/Portfolio/Code_Samples/SearchAndRescue_Sim/src/agents.py:31\u001b[0m, in \u001b[0;36mScoutAgent.policy\u001b[0;34m(self, obs)\u001b[0m\n\u001b[1;32m     28\u001b[0m \u001b[39mdef\u001b[39;00m \u001b[39mpolicy\u001b[39m(\u001b[39mself\u001b[39m, obs):\n\u001b[1;32m     29\u001b[0m     \u001b[39mid\u001b[39m, agent_locs, victum_loc_suggestions, visited, carrying, goals \u001b[39m=\u001b[39m obs\n\u001b[0;32m---> 31\u001b[0m     action_visit_counts \u001b[39m=\u001b[39m \u001b[39mself\u001b[39;49m\u001b[39m.\u001b[39;49mget_action_visit_counts(visited)\n\u001b[1;32m     32\u001b[0m     best_action \u001b[39m=\u001b[39m \u001b[39mself\u001b[39m\u001b[39m.\u001b[39mA[\u001b[39mself\u001b[39m\u001b[39m.\u001b[39mrandom_argmin(action_visit_counts)]\n\u001b[1;32m     33\u001b[0m     \u001b[39mreturn\u001b[39;00m best_action\n",
      "File \u001b[0;32m/media/alden/WD_BLACK/Portfolio/Code_Samples/SearchAndRescue_Sim/src/agents.py:49\u001b[0m, in \u001b[0;36mScoutAgent.get_action_visit_counts\u001b[0;34m(self, visited)\u001b[0m\n\u001b[1;32m     47\u001b[0m down \u001b[39m=\u001b[39m center \u001b[39m+\u001b[39m \u001b[39mint\u001b[39m(size_of_range \u001b[39m/\u001b[39m \u001b[39m2\u001b[39m)\n\u001b[1;32m     48\u001b[0m up \u001b[39m=\u001b[39m center \u001b[39m-\u001b[39m \u001b[39mint\u001b[39m(size_of_range \u001b[39m/\u001b[39m \u001b[39m2\u001b[39m)\n\u001b[0;32m---> 49\u001b[0m nearby_visits \u001b[39m=\u001b[39m np\u001b[39m.\u001b[39marray([visited[left], visited[down], visited[up], visited[right]])\n\u001b[1;32m     50\u001b[0m \u001b[39mreturn\u001b[39;00m nearby_visits\n",
      "\u001b[0;31mIndexError\u001b[0m: index 400 is out of bounds for axis 0 with size 400"
     ]
    },
    {
     "ename": "",
     "evalue": "",
     "output_type": "error",
     "traceback": [
      "\u001b[1;31mThe Kernel crashed while executing code in the the current cell or a previous cell. Please review the code in the cell(s) to identify a possible cause of the failure. Click <a href='https://aka.ms/vscodeJupyterKernelCrash'>here</a> for more info. View Jupyter <a href='command:jupyter.viewOutput'>log</a> for further details."
     ]
    }
   ],
   "source": [
    "\n",
    "custom_options = {\n",
    "    'screen_size': 400,\n",
    "    'grid_size': 20,\n",
    "    'num_agents': 5,\n",
    "    'num_rescuers': 2,\n",
    "    'num_victums': 2,\n",
    "    'visible_range': 2,\n",
    "    'max_pheromone': 10,\n",
    "    'render_mode': 'human',\n",
    "    'render_delay': 0.01 # in seconds\n",
    "}\n",
    "\n",
    "env = SARGridWorld(custom_options)\n",
    "sar_sim = Simulation(env)\n",
    "\n",
    "sar_sim.run_simulation()"
   ]
  }
 ],
 "metadata": {
  "kernelspec": {
   "display_name": "Python 3.10.7 64-bit ('3.10.7')",
   "language": "python",
   "name": "python3"
  },
  "language_info": {
   "codemirror_mode": {
    "name": "ipython",
    "version": 3
   },
   "file_extension": ".py",
   "mimetype": "text/x-python",
   "name": "python",
   "nbconvert_exporter": "python",
   "pygments_lexer": "ipython3",
   "version": "3.10.7"
  },
  "orig_nbformat": 4,
  "vscode": {
   "interpreter": {
    "hash": "f885191ef86e554a9bd526eef11378da301075f01c38e0718f91bec25a19e2b6"
   }
  }
 },
 "nbformat": 4,
 "nbformat_minor": 2
}
