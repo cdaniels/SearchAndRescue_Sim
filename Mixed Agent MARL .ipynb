{
 "cells": [
  {
   "cell_type": "code",
   "execution_count": 1,
   "metadata": {},
   "outputs": [
    {
     "name": "stdout",
     "output_type": "stream",
     "text": [
      "pygame 2.1.2 (SDL 2.0.16, Python 3.10.7)\n",
      "Hello from the pygame community. https://www.pygame.org/contribute.html\n"
     ]
    }
   ],
   "source": [
    "import sys\n",
    "\n",
    "import sys  \n",
    "sys.path.insert(0, './src')\n",
    "\n",
    "import src.simulation\n",
    "from src import simulation \n",
    "\n",
    "from src.simulation import Simulation\n",
    "from src.environments import SARGridWorld\n"
   ]
  },
  {
   "cell_type": "code",
   "execution_count": 2,
   "metadata": {},
   "outputs": [],
   "source": [
    "\n",
    "custom_options = {\n",
    "    'screen_size': 400,\n",
    "    'grid_size': 20,\n",
    "    'num_agents': 5,\n",
    "    'num_rescuers': 2,\n",
    "    'num_victums': 2,\n",
    "    'visible_range': 2,\n",
    "    'max_pheromone': 10,\n",
    "    'render_mode': 'human',\n",
    "    'render_delay': 0.01 # in seconds\n",
    "}\n",
    "\n",
    "env = SARGridWorld(custom_options)\n",
    "sar_sim = Simulation(env)\n",
    "\n",
    "sar_sim.run_simulation()"
   ]
  }
 ],
 "metadata": {
  "kernelspec": {
   "display_name": "Python 3.10.7 64-bit ('3.10.7')",
   "language": "python",
   "name": "python3"
  },
  "language_info": {
   "codemirror_mode": {
    "name": "ipython",
    "version": 3
   },
   "file_extension": ".py",
   "mimetype": "text/x-python",
   "name": "python",
   "nbconvert_exporter": "python",
   "pygments_lexer": "ipython3",
   "version": "3.10.7"
  },
  "orig_nbformat": 4,
  "vscode": {
   "interpreter": {
    "hash": "f885191ef86e554a9bd526eef11378da301075f01c38e0718f91bec25a19e2b6"
   }
  }
 },
 "nbformat": 4,
 "nbformat_minor": 2
}
