{
 "cells": [
  {
   "cell_type": "code",
   "execution_count": 1,
   "metadata": {},
   "outputs": [
    {
     "name": "stdout",
     "output_type": "stream",
     "text": [
      "pygame 2.1.2 (SDL 2.0.16, Python 3.10.7)\n",
      "Hello from the pygame community. https://www.pygame.org/contribute.html\n"
     ]
    },
    {
     "ename": "ImportError",
     "evalue": "cannot import name 'Display' from 'src.display' (/media/alden/WD_BLACK/Portfolio/Code_Samples/SearchAndRescue_Sim/src/display.py)",
     "output_type": "error",
     "traceback": [
      "\u001b[0;31m---------------------------------------------------------------------------\u001b[0m",
      "\u001b[0;31mImportError\u001b[0m                               Traceback (most recent call last)",
      "Cell \u001b[0;32mIn [1], line 6\u001b[0m\n\u001b[1;32m      3\u001b[0m \u001b[39mimport\u001b[39;00m \u001b[39msys\u001b[39;00m  \n\u001b[1;32m      4\u001b[0m sys\u001b[39m.\u001b[39mpath\u001b[39m.\u001b[39minsert(\u001b[39m0\u001b[39m, \u001b[39m'\u001b[39m\u001b[39m./src\u001b[39m\u001b[39m'\u001b[39m)\n\u001b[0;32m----> 6\u001b[0m \u001b[39mimport\u001b[39;00m \u001b[39msrc\u001b[39;00m\u001b[39m.\u001b[39;00m\u001b[39msimulation\u001b[39;00m\n\u001b[1;32m      7\u001b[0m \u001b[39mfrom\u001b[39;00m \u001b[39msrc\u001b[39;00m \u001b[39mimport\u001b[39;00m simulation \n\u001b[1;32m      9\u001b[0m \u001b[39mfrom\u001b[39;00m \u001b[39msrc\u001b[39;00m\u001b[39m.\u001b[39;00m\u001b[39msimulation\u001b[39;00m \u001b[39mimport\u001b[39;00m Simulation\n",
      "File \u001b[0;32m/media/alden/WD_BLACK/Portfolio/Code_Samples/SearchAndRescue_Sim/src/simulation.py:3\u001b[0m\n\u001b[1;32m      1\u001b[0m \u001b[39mimport\u001b[39;00m \u001b[39mnumpy\u001b[39;00m \u001b[39mas\u001b[39;00m \u001b[39mnp\u001b[39;00m\n\u001b[0;32m----> 3\u001b[0m \u001b[39mfrom\u001b[39;00m \u001b[39msrc\u001b[39;00m\u001b[39m.\u001b[39;00m\u001b[39menvironments\u001b[39;00m \u001b[39mimport\u001b[39;00m SARGridWorld, default_options\n\u001b[1;32m      4\u001b[0m \u001b[39mfrom\u001b[39;00m \u001b[39msrc\u001b[39;00m\u001b[39m.\u001b[39;00m\u001b[39magents\u001b[39;00m \u001b[39mimport\u001b[39;00m ScoutAgent, RescueAgent\n\u001b[1;32m      6\u001b[0m \u001b[39mclass\u001b[39;00m \u001b[39mSimulation\u001b[39;00m:\n",
      "File \u001b[0;32m/media/alden/WD_BLACK/Portfolio/Code_Samples/SearchAndRescue_Sim/src/environments.py:7\u001b[0m\n\u001b[1;32m      5\u001b[0m \u001b[39mimport\u001b[39;00m \u001b[39mmath\u001b[39;00m\n\u001b[1;32m      6\u001b[0m \u001b[39mfrom\u001b[39;00m \u001b[39msrc\u001b[39;00m\u001b[39m.\u001b[39;00m\u001b[39mmap_factory\u001b[39;00m \u001b[39mimport\u001b[39;00m ImageGridFactory, SimpleGridFactory\n\u001b[0;32m----> 7\u001b[0m \u001b[39mfrom\u001b[39;00m \u001b[39msrc\u001b[39;00m\u001b[39m.\u001b[39;00m\u001b[39mdisplay\u001b[39;00m \u001b[39mimport\u001b[39;00m Display\n\u001b[1;32m      9\u001b[0m default_options \u001b[39m=\u001b[39m {\n\u001b[1;32m     10\u001b[0m     \u001b[39m'\u001b[39m\u001b[39mscreen_size\u001b[39m\u001b[39m'\u001b[39m: \u001b[39m100\u001b[39m,\n\u001b[1;32m     11\u001b[0m     \u001b[39m'\u001b[39m\u001b[39mgrid_size\u001b[39m\u001b[39m'\u001b[39m: \u001b[39m100\u001b[39m,\n\u001b[0;32m   (...)\u001b[0m\n\u001b[1;32m     20\u001b[0m     \u001b[39m'\u001b[39m\u001b[39mrender_delay\u001b[39m\u001b[39m'\u001b[39m: \u001b[39m0\u001b[39m \u001b[39m# in seconds\u001b[39;00m\n\u001b[1;32m     21\u001b[0m }\n\u001b[1;32m     23\u001b[0m \u001b[39m\"\"\"\u001b[39;00m\n\u001b[1;32m     24\u001b[0m \u001b[39mTODO (extract class from render code)\u001b[39;00m\n\u001b[1;32m     25\u001b[0m \u001b[39mTODO (extract class from perception data)\u001b[39;00m\n\u001b[0;32m   (...)\u001b[0m\n\u001b[1;32m     29\u001b[0m \u001b[39mTODO implement adjustable scout and rescuer speeds\u001b[39;00m\n\u001b[1;32m     30\u001b[0m \u001b[39m\"\"\"\u001b[39;00m\n",
      "\u001b[0;31mImportError\u001b[0m: cannot import name 'Display' from 'src.display' (/media/alden/WD_BLACK/Portfolio/Code_Samples/SearchAndRescue_Sim/src/display.py)"
     ]
    }
   ],
   "source": [
    "import sys\n",
    "\n",
    "import sys  \n",
    "sys.path.insert(0, './src')\n",
    "\n",
    "import src.simulation\n",
    "from src import simulation \n",
    "\n",
    "from src.simulation import Simulation\n",
    "from src.environments import SARGridWorld\n"
   ]
  },
  {
   "cell_type": "markdown",
   "metadata": {},
   "source": [
    "### Run Simulation on Simple Open GRid"
   ]
  },
  {
   "cell_type": "code",
   "execution_count": null,
   "metadata": {},
   "outputs": [
    {
     "ename": "AttributeError",
     "evalue": "'SARGridWorld' object has no attribute 'stop_simulation'",
     "output_type": "error",
     "traceback": [
      "\u001b[0;31m---------------------------------------------------------------------------\u001b[0m",
      "\u001b[0;31mAttributeError\u001b[0m                            Traceback (most recent call last)",
      "Cell \u001b[0;32mIn [2], line 18\u001b[0m\n\u001b[1;32m     15\u001b[0m env \u001b[39m=\u001b[39m SARGridWorld(custom_options)\n\u001b[1;32m     16\u001b[0m sar_sim \u001b[39m=\u001b[39m Simulation(env)\n\u001b[0;32m---> 18\u001b[0m sar_sim\u001b[39m.\u001b[39;49mrun_simulation()\n",
      "File \u001b[0;32m/media/alden/WD_BLACK/Portfolio/Code_Samples/SearchAndRescue_Sim/src/simulation.py:48\u001b[0m, in \u001b[0;36mSimulation.run_simulation\u001b[0;34m(self)\u001b[0m\n\u001b[1;32m     46\u001b[0m         \u001b[39m# termination must break the loop or other agents will reset it\u001b[39;00m\n\u001b[1;32m     47\u001b[0m         \u001b[39mif\u001b[39;00m(terminated): \u001b[39mbreak\u001b[39;00m\n\u001b[0;32m---> 48\u001b[0m \u001b[39mself\u001b[39;49m\u001b[39m.\u001b[39;49mgrid_world\u001b[39m.\u001b[39;49mstop_simulation()\n",
      "\u001b[0;31mAttributeError\u001b[0m: 'SARGridWorld' object has no attribute 'stop_simulation'"
     ]
    }
   ],
   "source": [
    "\n",
    "custom_options = {\n",
    "    'screen_size': 500,\n",
    "    'grid_size': 20,\n",
    "    'map_file': None,\n",
    "    'num_agents': 5,\n",
    "    'num_rescuers': 2,\n",
    "    'num_victums': 4,\n",
    "    'scout_visible_range': 2,\n",
    "    'rescuer_visible_range': 1,\n",
    "    'max_pheromone': 10,\n",
    "    'render_mode': 'human',\n",
    "    'render_delay': 0.01 # in seconds\n",
    "}\n",
    "\n",
    "env = SARGridWorld(custom_options)\n",
    "sar_sim = Simulation(env)\n",
    "\n",
    "sar_sim.run_simulation()"
   ]
  },
  {
   "cell_type": "markdown",
   "metadata": {},
   "source": [
    "### Run Simulation on Grid from Map Image"
   ]
  },
  {
   "cell_type": "code",
   "execution_count": null,
   "metadata": {},
   "outputs": [
    {
     "ename": "error",
     "evalue": "display Surface quit",
     "output_type": "error",
     "traceback": [
      "\u001b[0;31m---------------------------------------------------------------------------\u001b[0m",
      "\u001b[0;31merror\u001b[0m                                     Traceback (most recent call last)",
      "Cell \u001b[0;32mIn [6], line 18\u001b[0m\n\u001b[1;32m     15\u001b[0m env \u001b[39m=\u001b[39m SARGridWorld(custom_options)\n\u001b[1;32m     16\u001b[0m sar_sim \u001b[39m=\u001b[39m Simulation(env)\n\u001b[0;32m---> 18\u001b[0m sar_sim\u001b[39m.\u001b[39;49mrun_simulation()\n",
      "File \u001b[0;32m/media/alden/WD_BLACK/Portfolio/Code_Samples/SearchAndRescue_Sim/src/simulation.py:42\u001b[0m, in \u001b[0;36mSimulation.run_simulation\u001b[0;34m(self)\u001b[0m\n\u001b[1;32m     40\u001b[0m agent \u001b[39m=\u001b[39m \u001b[39mself\u001b[39m\u001b[39m.\u001b[39magent_dict[i]\n\u001b[1;32m     41\u001b[0m act \u001b[39m=\u001b[39m agent_actions[i]\n\u001b[0;32m---> 42\u001b[0m obs, reward, terminated \u001b[39m=\u001b[39m \u001b[39mself\u001b[39;49m\u001b[39m.\u001b[39;49mgrid_world\u001b[39m.\u001b[39;49mstep_agent(i, act)\n\u001b[1;32m     44\u001b[0m \u001b[39m# setup the next action for the agent\u001b[39;00m\n\u001b[1;32m     45\u001b[0m agent_actions[i] \u001b[39m=\u001b[39m agent\u001b[39m.\u001b[39mpolicy(obs)\n",
      "File \u001b[0;32m/media/alden/WD_BLACK/Portfolio/Code_Samples/SearchAndRescue_Sim/src/environments.py:222\u001b[0m, in \u001b[0;36mSARGridWorld.step_agent\u001b[0;34m(self, agent_i, action)\u001b[0m\n\u001b[1;32m    220\u001b[0m \u001b[39m# draw changes to screen if enabled\u001b[39;00m\n\u001b[1;32m    221\u001b[0m \u001b[39mif\u001b[39;00m \u001b[39mself\u001b[39m\u001b[39m.\u001b[39mrender_mode \u001b[39m==\u001b[39m \u001b[39m'\u001b[39m\u001b[39mhuman\u001b[39m\u001b[39m'\u001b[39m:\n\u001b[0;32m--> 222\u001b[0m     \u001b[39mself\u001b[39;49m\u001b[39m.\u001b[39;49mrender()\n\u001b[1;32m    223\u001b[0m \u001b[39m# format observation data\u001b[39;00m\n\u001b[1;32m    224\u001b[0m obs \u001b[39m=\u001b[39m \u001b[39mself\u001b[39m\u001b[39m.\u001b[39mget_observation_for_agent(agent_i)\n",
      "File \u001b[0;32m/media/alden/WD_BLACK/Portfolio/Code_Samples/SearchAndRescue_Sim/src/environments.py:339\u001b[0m, in \u001b[0;36mSARGridWorld.render\u001b[0;34m(self)\u001b[0m\n\u001b[1;32m    338\u001b[0m \u001b[39mdef\u001b[39;00m \u001b[39mrender\u001b[39m(\u001b[39mself\u001b[39m):\n\u001b[0;32m--> 339\u001b[0m     \u001b[39mself\u001b[39;49m\u001b[39m.\u001b[39;49mrender_grid()\n\u001b[1;32m    340\u001b[0m     \u001b[39mself\u001b[39m\u001b[39m.\u001b[39mrender_perception_data()\n\u001b[1;32m    341\u001b[0m     \u001b[39mself\u001b[39m\u001b[39m.\u001b[39mupdate_screen()\n",
      "File \u001b[0;32m/media/alden/WD_BLACK/Portfolio/Code_Samples/SearchAndRescue_Sim/src/environments.py:345\u001b[0m, in \u001b[0;36mSARGridWorld.render_grid\u001b[0;34m(self)\u001b[0m\n\u001b[1;32m    343\u001b[0m \u001b[39mdef\u001b[39;00m \u001b[39mrender_grid\u001b[39m(\u001b[39mself\u001b[39m):\n\u001b[1;32m    344\u001b[0m     \u001b[39m# fill the display buffor on the screen\u001b[39;00m\n\u001b[0;32m--> 345\u001b[0m     \u001b[39mself\u001b[39;49m\u001b[39m.\u001b[39;49mscreen\u001b[39m.\u001b[39;49mfill(BLACK)\n\u001b[1;32m    346\u001b[0m     \u001b[39m# draw the empty spaces\u001b[39;00m\n\u001b[1;32m    347\u001b[0m     \u001b[39mfor\u001b[39;00m space \u001b[39min\u001b[39;00m \u001b[39mself\u001b[39m\u001b[39m.\u001b[39mmovable_locations:\n",
      "\u001b[0;31merror\u001b[0m: display Surface quit"
     ]
    }
   ],
   "source": [
    "\n",
    "custom_options = {\n",
    "    'screen_size': 500,\n",
    "    'grid_size': 100,\n",
    "    'map_file': './assets/maps/old_maps/strong4_new.npy',\n",
    "    'num_agents': 5,\n",
    "    'num_rescuers': 2,\n",
    "    'num_victums': 3,\n",
    "    'scout_visible_range': 2,\n",
    "    'rescuer_visible_range': 1,\n",
    "    'max_pheromone': 10,\n",
    "    'render_mode': 'human',\n",
    "    'render_delay': 0 # in seconds\n",
    "}\n",
    "\n",
    "env = SARGridWorld(custom_options)\n",
    "sar_sim = Simulation(env)\n",
    "\n",
    "sar_sim.run_simulation()"
   ]
  }
 ],
 "metadata": {
  "kernelspec": {
   "display_name": "Python 3.10.7 64-bit ('3.10.7')",
   "language": "python",
   "name": "python3"
  },
  "language_info": {
   "codemirror_mode": {
    "name": "ipython",
    "version": 3
   },
   "file_extension": ".py",
   "mimetype": "text/x-python",
   "name": "python",
   "nbconvert_exporter": "python",
   "pygments_lexer": "ipython3",
   "version": "3.10.7"
  },
  "orig_nbformat": 4,
  "vscode": {
   "interpreter": {
    "hash": "f885191ef86e554a9bd526eef11378da301075f01c38e0718f91bec25a19e2b6"
   }
  }
 },
 "nbformat": 4,
 "nbformat_minor": 2
}
