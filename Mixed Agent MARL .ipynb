{
 "cells": [
  {
   "cell_type": "code",
   "execution_count": 1,
   "metadata": {},
   "outputs": [
    {
     "name": "stdout",
     "output_type": "stream",
     "text": [
      "pygame 2.1.2 (SDL 2.0.16, Python 3.10.7)\n",
      "Hello from the pygame community. https://www.pygame.org/contribute.html\n"
     ]
    }
   ],
   "source": [
    "import sys\n",
    "\n",
    "import sys  \n",
    "sys.path.insert(0, './src')\n",
    "\n",
    "import src.simulation\n",
    "from src import simulation \n",
    "\n",
    "from src.simulation import Simulation\n",
    "from src.environments import SARGridWorld\n"
   ]
  },
  {
   "cell_type": "markdown",
   "metadata": {},
   "source": [
    "### Run Simulation on Simple Open GRid"
   ]
  },
  {
   "cell_type": "code",
   "execution_count": 2,
   "metadata": {},
   "outputs": [],
   "source": [
    "\n",
    "custom_options = {\n",
    "    'screen_size': 500,\n",
    "    'grid_size': 25,\n",
    "    'map_file': None,\n",
    "    'num_agents': 10,\n",
    "    'num_rescuers': 5,\n",
    "    'num_victums': 4,\n",
    "    'scout_visible_range': 2,\n",
    "    'rescuer_visible_range': 1,\n",
    "    'max_pheromone': 10,\n",
    "    'render_mode': 'human',\n",
    "    'render_delay': 0 # in seconds\n",
    "}\n",
    "\n",
    "env = SARGridWorld(custom_options)\n",
    "sar_sim = Simulation(env)\n",
    "\n",
    "sar_sim.run_simulation()"
   ]
  },
  {
   "cell_type": "markdown",
   "metadata": {},
   "source": [
    "### Run Simulation on Grid from Map Image"
   ]
  },
  {
   "cell_type": "code",
   "execution_count": 3,
   "metadata": {},
   "outputs": [
    {
     "ename": "AttributeError",
     "evalue": "'SARGridWorld' object has no attribute 'scout_visible_range'",
     "output_type": "error",
     "traceback": [
      "\u001b[0;31m---------------------------------------------------------------------------\u001b[0m",
      "\u001b[0;31mAttributeError\u001b[0m                            Traceback (most recent call last)",
      "Cell \u001b[0;32mIn [3], line 14\u001b[0m\n\u001b[1;32m      1\u001b[0m custom_options \u001b[39m=\u001b[39m {\n\u001b[1;32m      2\u001b[0m     \u001b[39m'\u001b[39m\u001b[39mscreen_size\u001b[39m\u001b[39m'\u001b[39m: \u001b[39m500\u001b[39m,\n\u001b[1;32m      3\u001b[0m     \u001b[39m'\u001b[39m\u001b[39mgrid_size\u001b[39m\u001b[39m'\u001b[39m: \u001b[39m100\u001b[39m,\n\u001b[0;32m   (...)\u001b[0m\n\u001b[1;32m     11\u001b[0m     \u001b[39m'\u001b[39m\u001b[39mrender_delay\u001b[39m\u001b[39m'\u001b[39m: \u001b[39m0\u001b[39m \u001b[39m# in seconds\u001b[39;00m\n\u001b[1;32m     12\u001b[0m }\n\u001b[0;32m---> 14\u001b[0m env \u001b[39m=\u001b[39m SARGridWorld(custom_options)\n\u001b[1;32m     15\u001b[0m sar_sim \u001b[39m=\u001b[39m Simulation(env)\n\u001b[1;32m     17\u001b[0m sar_sim\u001b[39m.\u001b[39mrun_simulation()\n",
      "File \u001b[0;32m/media/alden/WD_BLACK/Portfolio/Code_Samples/SearchAndRescue_Sim/src/environments.py:40\u001b[0m, in \u001b[0;36mSARGridWorld.__init__\u001b[0;34m(self, options)\u001b[0m\n\u001b[1;32m     37\u001b[0m \u001b[39mdef\u001b[39;00m \u001b[39m__init__\u001b[39m(\u001b[39mself\u001b[39m, options) \u001b[39m-\u001b[39m\u001b[39m>\u001b[39m \u001b[39mNone\u001b[39;00m:\n\u001b[1;32m     38\u001b[0m     \u001b[39m# unpack the options\u001b[39;00m\n\u001b[1;32m     39\u001b[0m     \u001b[39mself\u001b[39m\u001b[39m.\u001b[39munpack_options(options)\n\u001b[0;32m---> 40\u001b[0m     grid \u001b[39m=\u001b[39m \u001b[39mself\u001b[39;49m\u001b[39m.\u001b[39;49mbuild_grid()\n\u001b[1;32m     41\u001b[0m     \u001b[39mself\u001b[39m\u001b[39m.\u001b[39mpopulate_grid(grid\u001b[39m.\u001b[39mflatten())\n\u001b[1;32m     43\u001b[0m     \u001b[39m# initialize pygame if appropriate\u001b[39;00m\n",
      "File \u001b[0;32m/media/alden/WD_BLACK/Portfolio/Code_Samples/SearchAndRescue_Sim/src/environments.py:52\u001b[0m, in \u001b[0;36mSARGridWorld.build_grid\u001b[0;34m(self)\u001b[0m\n\u001b[1;32m     50\u001b[0m \u001b[39m# grids are loaded with padding equal to the visible range (so that the logic for observable are is cleaner)\u001b[39;00m\n\u001b[1;32m     51\u001b[0m \u001b[39mif\u001b[39;00m \u001b[39mself\u001b[39m\u001b[39m.\u001b[39mmap_file \u001b[39mis\u001b[39;00m \u001b[39mnot\u001b[39;00m \u001b[39mNone\u001b[39;00m:\n\u001b[0;32m---> 52\u001b[0m     grid \u001b[39m=\u001b[39m ImageGridFactory\u001b[39m.\u001b[39mload_grid(\u001b[39mself\u001b[39m\u001b[39m.\u001b[39mmap_file, \u001b[39mself\u001b[39;49m\u001b[39m.\u001b[39;49mscout_visible_range)\n\u001b[1;32m     53\u001b[0m \u001b[39melse\u001b[39;00m:\n\u001b[1;32m     54\u001b[0m     grid \u001b[39m=\u001b[39m SimpleGridFactory\u001b[39m.\u001b[39mload_grid(\u001b[39mself\u001b[39m\u001b[39m.\u001b[39mgrid_size, \u001b[39mself\u001b[39m\u001b[39m.\u001b[39mscout_visible_range)\n",
      "\u001b[0;31mAttributeError\u001b[0m: 'SARGridWorld' object has no attribute 'scout_visible_range'"
     ]
    }
   ],
   "source": [
    "\n",
    "custom_options = {\n",
    "    'screen_size': 500,\n",
    "    'grid_size': 100,\n",
    "    'map_file': './assets/maps/old_maps/strong4_new.npy',\n",
    "    'num_agents': 10,\n",
    "    'num_rescuers': 5,\n",
    "    'num_victums': 10,\n",
    "    'visible_range': 2,\n",
    "    'max_pheromone': 10,\n",
    "    'render_mode': 'human',\n",
    "    'render_delay': 0 # in seconds\n",
    "}\n",
    "\n",
    "env = SARGridWorld(custom_options)\n",
    "sar_sim = Simulation(env)\n",
    "\n",
    "sar_sim.run_simulation()"
   ]
  }
 ],
 "metadata": {
  "kernelspec": {
   "display_name": "Python 3.10.7 64-bit ('3.10.7')",
   "language": "python",
   "name": "python3"
  },
  "language_info": {
   "codemirror_mode": {
    "name": "ipython",
    "version": 3
   },
   "file_extension": ".py",
   "mimetype": "text/x-python",
   "name": "python",
   "nbconvert_exporter": "python",
   "pygments_lexer": "ipython3",
   "version": "3.10.7"
  },
  "orig_nbformat": 4,
  "vscode": {
   "interpreter": {
    "hash": "f885191ef86e554a9bd526eef11378da301075f01c38e0718f91bec25a19e2b6"
   }
  }
 },
 "nbformat": 4,
 "nbformat_minor": 2
}
