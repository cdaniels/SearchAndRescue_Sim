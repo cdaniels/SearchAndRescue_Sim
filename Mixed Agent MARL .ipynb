{
 "cells": [
  {
   "cell_type": "code",
   "execution_count": 1,
   "metadata": {},
   "outputs": [
    {
     "name": "stdout",
     "output_type": "stream",
     "text": [
      "pygame 2.1.2 (SDL 2.0.16, Python 3.10.7)\n",
      "Hello from the pygame community. https://www.pygame.org/contribute.html\n"
     ]
    }
   ],
   "source": [
    "import sys\n",
    "\n",
    "import sys  \n",
    "sys.path.insert(0, './src')\n",
    "\n",
    "import src.simulation\n",
    "from src import simulation \n",
    "\n",
    "from src.simulation import Simulation\n",
    "from src.environments import SARGridWorld\n"
   ]
  },
  {
   "cell_type": "code",
   "execution_count": 2,
   "metadata": {},
   "outputs": [
    {
     "ename": "ValueError",
     "evalue": "invalid color argument",
     "output_type": "error",
     "traceback": [
      "\u001b[0;31m---------------------------------------------------------------------------\u001b[0m",
      "\u001b[0;31mValueError\u001b[0m                                Traceback (most recent call last)",
      "Cell \u001b[0;32mIn [2], line 16\u001b[0m\n\u001b[1;32m     13\u001b[0m env \u001b[39m=\u001b[39m SARGridWorld(custom_options)\n\u001b[1;32m     14\u001b[0m sar_sim \u001b[39m=\u001b[39m Simulation(env)\n\u001b[0;32m---> 16\u001b[0m sar_sim\u001b[39m.\u001b[39;49mrun_simulation()\n",
      "File \u001b[0;32m/media/alden/WD_BLACK/Portfolio/Code_Samples/MARL_Sim/src/simulation.py:42\u001b[0m, in \u001b[0;36mSimulation.run_simulation\u001b[0;34m(self)\u001b[0m\n\u001b[1;32m     40\u001b[0m agent \u001b[39m=\u001b[39m \u001b[39mself\u001b[39m\u001b[39m.\u001b[39magent_dict[i]\n\u001b[1;32m     41\u001b[0m act \u001b[39m=\u001b[39m agent_actions[i]\n\u001b[0;32m---> 42\u001b[0m obs, reward, terminated \u001b[39m=\u001b[39m \u001b[39mself\u001b[39;49m\u001b[39m.\u001b[39;49mgrid_world\u001b[39m.\u001b[39;49mstep_agent(i, act)\n\u001b[1;32m     44\u001b[0m \u001b[39m# setup the next action for the agent\u001b[39;00m\n\u001b[1;32m     45\u001b[0m agent_actions[i] \u001b[39m=\u001b[39m agent\u001b[39m.\u001b[39mpolicy(obs)\n",
      "File \u001b[0;32m/media/alden/WD_BLACK/Portfolio/Code_Samples/MARL_Sim/src/environments.py:169\u001b[0m, in \u001b[0;36mSARGridWorld.step_agent\u001b[0;34m(self, agent_i, action)\u001b[0m\n\u001b[1;32m    165\u001b[0m \u001b[39m# self.exchange_data_with_agents_in_range(agent_i)\u001b[39;00m\n\u001b[1;32m    166\u001b[0m \n\u001b[1;32m    167\u001b[0m \u001b[39m# draw changes to screen if enabled\u001b[39;00m\n\u001b[1;32m    168\u001b[0m \u001b[39mif\u001b[39;00m \u001b[39mself\u001b[39m\u001b[39m.\u001b[39mrender_mode \u001b[39m==\u001b[39m \u001b[39m'\u001b[39m\u001b[39mhuman\u001b[39m\u001b[39m'\u001b[39m:\n\u001b[0;32m--> 169\u001b[0m     \u001b[39mself\u001b[39;49m\u001b[39m.\u001b[39;49mrender_grid()\n\u001b[1;32m    171\u001b[0m \u001b[39m# format observation data\u001b[39;00m\n\u001b[1;32m    172\u001b[0m suggested_locs \u001b[39m=\u001b[39m \u001b[39mself\u001b[39m\u001b[39m.\u001b[39mlikely_victum_locations[agent_i]\n",
      "File \u001b[0;32m/media/alden/WD_BLACK/Portfolio/Code_Samples/MARL_Sim/src/environments.py:273\u001b[0m, in \u001b[0;36mSARGridWorld.render_grid\u001b[0;34m(self)\u001b[0m\n\u001b[1;32m    271\u001b[0m     \u001b[39mif\u001b[39;00m visit_count \u001b[39m>\u001b[39m \u001b[39m0\u001b[39m \u001b[39mand\u001b[39;00m visit_count \u001b[39m<\u001b[39m \u001b[39m255\u001b[39m:\n\u001b[1;32m    272\u001b[0m         grey_scale \u001b[39m=\u001b[39m \u001b[39m255\u001b[39m \u001b[39m-\u001b[39m visit_count\u001b[39m*\u001b[39m\u001b[39m10\u001b[39m \u001b[39m#(255, 255, 255)\u001b[39;00m\n\u001b[0;32m--> 273\u001b[0m     pygame\u001b[39m.\u001b[39;49mdraw\u001b[39m.\u001b[39;49mrect(\u001b[39mself\u001b[39;49m\u001b[39m.\u001b[39;49mscreen, (grey_scale, grey_scale, grey_scale), pygame\u001b[39m.\u001b[39;49mRect(x\u001b[39m*\u001b[39;49mscale, y\u001b[39m*\u001b[39;49mscale, scale, scale))\n\u001b[1;32m    274\u001b[0m     \u001b[39m# pygame.draw.rect(self.screen, WHITE, pygame.Rect(x*scale, y*scale, scale, scale))\u001b[39;00m\n\u001b[1;32m    275\u001b[0m \u001b[39m# draw the agents, victums, and goals in the display buffer\u001b[39;00m\n\u001b[1;32m    276\u001b[0m \u001b[39mfor\u001b[39;00m goal \u001b[39min\u001b[39;00m \u001b[39mself\u001b[39m\u001b[39m.\u001b[39mgoals:\n",
      "\u001b[0;31mValueError\u001b[0m: invalid color argument"
     ]
    },
    {
     "ename": "",
     "evalue": "",
     "output_type": "error",
     "traceback": [
      "\u001b[1;31mThe Kernel crashed while executing code in the the current cell or a previous cell. Please review the code in the cell(s) to identify a possible cause of the failure. Click <a href='https://aka.ms/vscodeJupyterKernelCrash'>here</a> for more info. View Jupyter <a href='command:jupyter.viewOutput'>log</a> for further details."
     ]
    }
   ],
   "source": [
    "\n",
    "custom_options = {\n",
    "    'screen_size': 400,\n",
    "    'grid_size': 20,\n",
    "    'num_agents': 5,\n",
    "    'num_rescuers': 2,\n",
    "    'num_victums': 2,\n",
    "    'visible_range': 2,\n",
    "    'max_pheromone': 10,\n",
    "    'render_mode': 'human',\n",
    "    'render_delay': 0.01 # in seconds\n",
    "}\n",
    "\n",
    "env = SARGridWorld(custom_options)\n",
    "sar_sim = Simulation(env)\n",
    "\n",
    "sar_sim.run_simulation()"
   ]
  }
 ],
 "metadata": {
  "kernelspec": {
   "display_name": "Python 3.10.7 64-bit ('3.10.7')",
   "language": "python",
   "name": "python3"
  },
  "language_info": {
   "codemirror_mode": {
    "name": "ipython",
    "version": 3
   },
   "file_extension": ".py",
   "mimetype": "text/x-python",
   "name": "python",
   "nbconvert_exporter": "python",
   "pygments_lexer": "ipython3",
   "version": "3.10.7"
  },
  "orig_nbformat": 4,
  "vscode": {
   "interpreter": {
    "hash": "f885191ef86e554a9bd526eef11378da301075f01c38e0718f91bec25a19e2b6"
   }
  }
 },
 "nbformat": 4,
 "nbformat_minor": 2
}
