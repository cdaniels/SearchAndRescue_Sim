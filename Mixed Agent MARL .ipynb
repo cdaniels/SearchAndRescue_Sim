{
 "cells": [
  {
   "cell_type": "code",
   "execution_count": 1,
   "metadata": {},
   "outputs": [
    {
     "name": "stdout",
     "output_type": "stream",
     "text": [
      "pygame 2.1.2 (SDL 2.0.16, Python 3.10.7)\n",
      "Hello from the pygame community. https://www.pygame.org/contribute.html\n"
     ]
    }
   ],
   "source": [
    "import sys\n",
    "\n",
    "import sys  \n",
    "sys.path.insert(0, './src')\n",
    "\n",
    "import src.simulation\n",
    "from src import simulation \n",
    "\n",
    "from src.simulation import Simulation, default_options\n"
   ]
  },
  {
   "cell_type": "code",
   "execution_count": 2,
   "metadata": {},
   "outputs": [
    {
     "ename": "ValueError",
     "evalue": "The truth value of an array with more than one element is ambiguous. Use a.any() or a.all()",
     "output_type": "error",
     "traceback": [
      "\u001b[0;31m---------------------------------------------------------------------------\u001b[0m",
      "\u001b[0;31mValueError\u001b[0m                                Traceback (most recent call last)",
      "Cell \u001b[0;32mIn [2], line 3\u001b[0m\n\u001b[1;32m      1\u001b[0m sar_sim \u001b[39m=\u001b[39m Simulation()\n\u001b[0;32m----> 3\u001b[0m sar_sim\u001b[39m.\u001b[39;49mrun_simulation()\n",
      "File \u001b[0;32m/media/alden/WD_BLACK/Portfolio/Code_Samples/MARL_Sim/src/simulation.py:47\u001b[0m, in \u001b[0;36mSimulation.run_simulation\u001b[0;34m(self)\u001b[0m\n\u001b[1;32m     45\u001b[0m agent \u001b[39m=\u001b[39m \u001b[39mself\u001b[39m\u001b[39m.\u001b[39magent_dict[i]\n\u001b[1;32m     46\u001b[0m act \u001b[39m=\u001b[39m agent_actions[i]\n\u001b[0;32m---> 47\u001b[0m obs, reward, terminated \u001b[39m=\u001b[39m \u001b[39mself\u001b[39;49m\u001b[39m.\u001b[39;49mgrid_world\u001b[39m.\u001b[39;49mstep_agent(i, act)\n\u001b[1;32m     49\u001b[0m \u001b[39m# setup the next action for the agent\u001b[39;00m\n\u001b[1;32m     50\u001b[0m agent_actions[i] \u001b[39m=\u001b[39m agent\u001b[39m.\u001b[39mpolicy(obs)\n",
      "File \u001b[0;32m/media/alden/WD_BLACK/Portfolio/Code_Samples/MARL_Sim/./src/environments.py:171\u001b[0m, in \u001b[0;36mSARGridWorld.step_agent\u001b[0;34m(self, agent_i, action)\u001b[0m\n\u001b[1;32m    169\u001b[0m     \u001b[39mif\u001b[39;00m agent_i \u001b[39m!=\u001b[39m agent:\n\u001b[1;32m    170\u001b[0m         \u001b[39mself\u001b[39m\u001b[39m.\u001b[39mlikely_victum_locations[agent_i] \u001b[39m=\u001b[39m \u001b[39mself\u001b[39m\u001b[39m.\u001b[39mlikely_victum_locations[agent]\n\u001b[0;32m--> 171\u001b[0m         \u001b[39mif\u001b[39;00m \u001b[39mself\u001b[39m\u001b[39m.\u001b[39magent_location_visits[agent_i] \u001b[39m<\u001b[39m\u001b[39m=\u001b[39m \u001b[39mself\u001b[39m\u001b[39m.\u001b[39mmax_pheromone:\n\u001b[1;32m    172\u001b[0m             \u001b[39mself\u001b[39m\u001b[39m.\u001b[39magent_location_visits[agent_i] \u001b[39m=\u001b[39m np\u001b[39m.\u001b[39madd(\u001b[39mself\u001b[39m\u001b[39m.\u001b[39magent_location_visits[agent_i], \u001b[39mself\u001b[39m\u001b[39m.\u001b[39magent_location_visits[agent])\n\u001b[1;32m    174\u001b[0m \u001b[39m# change states for movement if selected\u001b[39;00m\n",
      "\u001b[0;31mValueError\u001b[0m: The truth value of an array with more than one element is ambiguous. Use a.any() or a.all()"
     ]
    }
   ],
   "source": [
    "sar_sim = Simulation()\n",
    "\n",
    "sar_sim.run_simulation()"
   ]
  }
 ],
 "metadata": {
  "kernelspec": {
   "display_name": "Python 3.10.7 64-bit ('3.10.7')",
   "language": "python",
   "name": "python3"
  },
  "language_info": {
   "codemirror_mode": {
    "name": "ipython",
    "version": 3
   },
   "file_extension": ".py",
   "mimetype": "text/x-python",
   "name": "python",
   "nbconvert_exporter": "python",
   "pygments_lexer": "ipython3",
   "version": "3.10.7"
  },
  "orig_nbformat": 4,
  "vscode": {
   "interpreter": {
    "hash": "f885191ef86e554a9bd526eef11378da301075f01c38e0718f91bec25a19e2b6"
   }
  }
 },
 "nbformat": 4,
 "nbformat_minor": 2
}
