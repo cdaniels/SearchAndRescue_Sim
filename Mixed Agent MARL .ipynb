{
 "cells": [
  {
   "cell_type": "code",
   "execution_count": 3,
   "metadata": {},
   "outputs": [],
   "source": [
    "import sys\n",
    "\n",
    "import sys  \n",
    "sys.path.insert(0, './src')\n",
    "\n",
    "import src.simulation\n",
    "from src import simulation \n",
    "\n",
    "from src.simulation import Simulation, default_options\n"
   ]
  },
  {
   "cell_type": "code",
   "execution_count": 4,
   "metadata": {},
   "outputs": [],
   "source": [
    "sar_sim = Simulation()\n",
    "\n",
    "sar_sim.run_simulation()"
   ]
  }
 ],
 "metadata": {
  "kernelspec": {
   "display_name": "Python 3.10.7 64-bit ('3.10.7')",
   "language": "python",
   "name": "python3"
  },
  "language_info": {
   "codemirror_mode": {
    "name": "ipython",
    "version": 3
   },
   "file_extension": ".py",
   "mimetype": "text/x-python",
   "name": "python",
   "nbconvert_exporter": "python",
   "pygments_lexer": "ipython3",
   "version": "3.10.7"
  },
  "orig_nbformat": 4,
  "vscode": {
   "interpreter": {
    "hash": "f885191ef86e554a9bd526eef11378da301075f01c38e0718f91bec25a19e2b6"
   }
  }
 },
 "nbformat": 4,
 "nbformat_minor": 2
}
