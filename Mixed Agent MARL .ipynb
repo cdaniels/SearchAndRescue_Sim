{
 "cells": [
  {
   "cell_type": "code",
   "execution_count": 1,
   "metadata": {},
   "outputs": [
    {
     "name": "stdout",
     "output_type": "stream",
     "text": [
      "pygame 2.1.2 (SDL 2.0.16, Python 3.10.7)\n",
      "Hello from the pygame community. https://www.pygame.org/contribute.html\n"
     ]
    }
   ],
   "source": [
    "import sys\n",
    "\n",
    "import sys  \n",
    "sys.path.insert(0, './src')\n",
    "\n",
    "import src.simulation\n",
    "from src import simulation \n",
    "\n",
    "from src.simulation import Simulation\n",
    "from src.environments import SARGridWorld\n"
   ]
  },
  {
   "cell_type": "markdown",
   "metadata": {},
   "source": [
    "### Run Simulation on Simple Open GRid"
   ]
  },
  {
   "cell_type": "code",
   "execution_count": 2,
   "metadata": {},
   "outputs": [],
   "source": [
    "\n",
    "custom_options = {\n",
    "    'screen_size': 500,\n",
    "    'grid_size': 25,\n",
    "    'map_file': None,\n",
    "    'num_agents': 10,\n",
    "    'num_rescuers': 5,\n",
    "    'num_victums': 4,\n",
    "    'visible_range': 2,\n",
    "    'max_pheromone': 10,\n",
    "    'render_mode': 'human',\n",
    "    'render_delay': 0 # in seconds\n",
    "}\n",
    "\n",
    "env = SARGridWorld(custom_options)\n",
    "sar_sim = Simulation(env)\n",
    "\n",
    "sar_sim.run_simulation()"
   ]
  },
  {
   "cell_type": "markdown",
   "metadata": {},
   "source": [
    "### Run Simulation on Grid from Map Image"
   ]
  },
  {
   "cell_type": "code",
   "execution_count": 4,
   "metadata": {},
   "outputs": [
    {
     "ename": "ValueError",
     "evalue": "invalid color argument",
     "output_type": "error",
     "traceback": [
      "\u001b[0;31m---------------------------------------------------------------------------\u001b[0m",
      "\u001b[0;31mValueError\u001b[0m                                Traceback (most recent call last)",
      "Cell \u001b[0;32mIn [4], line 17\u001b[0m\n\u001b[1;32m     14\u001b[0m env \u001b[39m=\u001b[39m SARGridWorld(custom_options)\n\u001b[1;32m     15\u001b[0m sar_sim \u001b[39m=\u001b[39m Simulation(env)\n\u001b[0;32m---> 17\u001b[0m sar_sim\u001b[39m.\u001b[39;49mrun_simulation()\n",
      "File \u001b[0;32m/media/alden/WD_BLACK/Portfolio/Code_Samples/SearchAndRescue_Sim/src/simulation.py:42\u001b[0m, in \u001b[0;36mSimulation.run_simulation\u001b[0;34m(self)\u001b[0m\n\u001b[1;32m     40\u001b[0m agent \u001b[39m=\u001b[39m \u001b[39mself\u001b[39m\u001b[39m.\u001b[39magent_dict[i]\n\u001b[1;32m     41\u001b[0m act \u001b[39m=\u001b[39m agent_actions[i]\n\u001b[0;32m---> 42\u001b[0m obs, reward, terminated \u001b[39m=\u001b[39m \u001b[39mself\u001b[39;49m\u001b[39m.\u001b[39;49mgrid_world\u001b[39m.\u001b[39;49mstep_agent(i, act)\n\u001b[1;32m     44\u001b[0m \u001b[39m# setup the next action for the agent\u001b[39;00m\n\u001b[1;32m     45\u001b[0m agent_actions[i] \u001b[39m=\u001b[39m agent\u001b[39m.\u001b[39mpolicy(obs)\n",
      "File \u001b[0;32m/media/alden/WD_BLACK/Portfolio/Code_Samples/SearchAndRescue_Sim/src/environments.py:204\u001b[0m, in \u001b[0;36mSARGridWorld.step_agent\u001b[0;34m(self, agent_i, action)\u001b[0m\n\u001b[1;32m    202\u001b[0m \u001b[39m# draw changes to screen if enabled\u001b[39;00m\n\u001b[1;32m    203\u001b[0m \u001b[39mif\u001b[39;00m \u001b[39mself\u001b[39m\u001b[39m.\u001b[39mrender_mode \u001b[39m==\u001b[39m \u001b[39m'\u001b[39m\u001b[39mhuman\u001b[39m\u001b[39m'\u001b[39m:\n\u001b[0;32m--> 204\u001b[0m     \u001b[39mself\u001b[39;49m\u001b[39m.\u001b[39;49mrender_grid()\n\u001b[1;32m    205\u001b[0m \u001b[39m# format observation data\u001b[39;00m\n\u001b[1;32m    206\u001b[0m obs \u001b[39m=\u001b[39m \u001b[39mself\u001b[39m\u001b[39m.\u001b[39mget_observation_for_agent(agent_i)\n",
      "File \u001b[0;32m/media/alden/WD_BLACK/Portfolio/Code_Samples/SearchAndRescue_Sim/src/environments.py:307\u001b[0m, in \u001b[0;36mSARGridWorld.render_grid\u001b[0;34m(self)\u001b[0m\n\u001b[1;32m    305\u001b[0m     visit_count \u001b[39m=\u001b[39m \u001b[39mint\u001b[39m(\u001b[39mself\u001b[39m\u001b[39m.\u001b[39mlocation_visits[space])\n\u001b[1;32m    306\u001b[0m     grey_color \u001b[39m=\u001b[39m \u001b[39mself\u001b[39m\u001b[39m.\u001b[39mgrey_scale_for_visit_count(visit_count)\n\u001b[0;32m--> 307\u001b[0m     \u001b[39mself\u001b[39;49m\u001b[39m.\u001b[39;49mdraw_color_at_location(grey_color, space)\n\u001b[1;32m    308\u001b[0m \u001b[39m# draw the agents, victums, and goals in the display buffer\u001b[39;00m\n\u001b[1;32m    309\u001b[0m \u001b[39mfor\u001b[39;00m goal \u001b[39min\u001b[39;00m \u001b[39mself\u001b[39m\u001b[39m.\u001b[39mgoals:\n",
      "File \u001b[0;32m/media/alden/WD_BLACK/Portfolio/Code_Samples/SearchAndRescue_Sim/src/environments.py:337\u001b[0m, in \u001b[0;36mSARGridWorld.draw_color_at_location\u001b[0;34m(self, color, loc)\u001b[0m\n\u001b[1;32m    335\u001b[0m scale \u001b[39m=\u001b[39m \u001b[39mself\u001b[39m\u001b[39m.\u001b[39mgrid2screen\n\u001b[1;32m    336\u001b[0m x, y \u001b[39m=\u001b[39m \u001b[39mself\u001b[39m\u001b[39m.\u001b[39mconvert_loc_to_2d(loc)\n\u001b[0;32m--> 337\u001b[0m pygame\u001b[39m.\u001b[39;49mdraw\u001b[39m.\u001b[39;49mrect(\u001b[39mself\u001b[39;49m\u001b[39m.\u001b[39;49mscreen, color, pygame\u001b[39m.\u001b[39;49mRect(x\u001b[39m*\u001b[39;49mscale, y\u001b[39m*\u001b[39;49mscale, scale, scale))\n",
      "\u001b[0;31mValueError\u001b[0m: invalid color argument"
     ]
    }
   ],
   "source": [
    "\n",
    "custom_options = {\n",
    "    'screen_size': 1000,\n",
    "    'grid_size': 100,\n",
    "    'map_file': './assets/maps/old_maps/strong4_new.npy',\n",
    "    'num_agents': 10,\n",
    "    'num_rescuers': 5,\n",
    "    'num_victums': 10,\n",
    "    'visible_range': 2,\n",
    "    'max_pheromone': 10,\n",
    "    'render_mode': 'human',\n",
    "    'render_delay': 0 # in seconds\n",
    "}\n",
    "\n",
    "env = SARGridWorld(custom_options)\n",
    "sar_sim = Simulation(env)\n",
    "\n",
    "sar_sim.run_simulation()"
   ]
  }
 ],
 "metadata": {
  "kernelspec": {
   "display_name": "Python 3.10.7 64-bit ('3.10.7')",
   "language": "python",
   "name": "python3"
  },
  "language_info": {
   "codemirror_mode": {
    "name": "ipython",
    "version": 3
   },
   "file_extension": ".py",
   "mimetype": "text/x-python",
   "name": "python",
   "nbconvert_exporter": "python",
   "pygments_lexer": "ipython3",
   "version": "3.10.7"
  },
  "orig_nbformat": 4,
  "vscode": {
   "interpreter": {
    "hash": "f885191ef86e554a9bd526eef11378da301075f01c38e0718f91bec25a19e2b6"
   }
  }
 },
 "nbformat": 4,
 "nbformat_minor": 2
}
